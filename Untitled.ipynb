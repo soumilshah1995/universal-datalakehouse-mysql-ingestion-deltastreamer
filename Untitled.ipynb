{
 "cells": [
  {
   "cell_type": "markdown",
   "id": "6ab875bd-09b8-4ffc-bea2-683ceab76956",
   "metadata": {},
   "source": [
    "# Apache X Table with DeltaStreamer and trino Demo"
   ]
  },
  {
   "cell_type": "markdown",
   "id": "1fae7304-be62-471c-8eee-9ac72fdf2f00",
   "metadata": {},
   "source": [
    "# Install DEP\n",
    "```\n",
    "pip install trino\n",
    "pip install ipython-sql\n",
    "\n",
    "```"
   ]
  },
  {
   "cell_type": "markdown",
   "id": "9dd5b6ec-dc36-4666-abfd-2a3d7321fc55",
   "metadata": {},
   "source": [
    "# Read data as HUDI "
   ]
  },
  {
   "cell_type": "code",
   "execution_count": 1,
   "id": "4d063637-aab8-4c7c-968b-d9dab3548030",
   "metadata": {},
   "outputs": [
    {
     "name": "stdout",
     "output_type": "stream",
     "text": [
      " * trino://admin@localhost:8080/default\n",
      "Done.\n",
      " * trino://admin@localhost:8080/default\n",
      "Done.\n",
      " * trino://admin@localhost:8080/default\n",
      "Done.\n"
     ]
    },
    {
     "data": {
      "text/html": [
       "<table>\n",
       "    <thead>\n",
       "        <tr>\n",
       "            <th>Table</th>\n",
       "        </tr>\n",
       "    </thead>\n",
       "    <tbody>\n",
       "        <tr>\n",
       "            <td>customers</td>\n",
       "        </tr>\n",
       "    </tbody>\n",
       "</table>"
      ],
      "text/plain": [
       "[('customers',)]"
      ]
     },
     "execution_count": 1,
     "metadata": {},
     "output_type": "execute_result"
    }
   ],
   "source": [
    "%load_ext sql\n",
    "%sql trino://admin@localhost:8080/default\n",
    "%sql SHOW CATALOGS\n",
    "%sql USE hudi.default\n",
    "%sql show tables"
   ]
  },
  {
   "cell_type": "code",
   "execution_count": 9,
   "id": "3e49e25d-5423-437a-9118-bc918c0d153e",
   "metadata": {},
   "outputs": [
    {
     "name": "stdout",
     "output_type": "stream",
     "text": [
      " * trino://admin@localhost:8080/default\n",
      "Done.\n"
     ]
    },
    {
     "data": {
      "text/html": [
       "<table>\n",
       "    <thead>\n",
       "        <tr>\n",
       "            <th>id</th>\n",
       "            <th>first_name</th>\n",
       "            <th>last_name</th>\n",
       "        </tr>\n",
       "    </thead>\n",
       "    <tbody>\n",
       "        <tr>\n",
       "            <td>1004</td>\n",
       "            <td>Anne</td>\n",
       "            <td>Kretchmar</td>\n",
       "        </tr>\n",
       "        <tr>\n",
       "            <td>1002</td>\n",
       "            <td>George</td>\n",
       "            <td>Bailey</td>\n",
       "        </tr>\n",
       "        <tr>\n",
       "            <td>1003</td>\n",
       "            <td>Edward##</td>\n",
       "            <td>Walker</td>\n",
       "        </tr>\n",
       "        <tr>\n",
       "            <td>1001</td>\n",
       "            <td>Sally</td>\n",
       "            <td>Thomas</td>\n",
       "        </tr>\n",
       "    </tbody>\n",
       "</table>"
      ],
      "text/plain": [
       "[(1004, 'Anne', 'Kretchmar'),\n",
       " (1002, 'George', 'Bailey'),\n",
       " (1003, 'Edward##', 'Walker'),\n",
       " (1001, 'Sally', 'Thomas')]"
      ]
     },
     "execution_count": 9,
     "metadata": {},
     "output_type": "execute_result"
    }
   ],
   "source": [
    "%sql SELECT id,first_name, last_name from customers"
   ]
  },
  {
   "cell_type": "code",
   "execution_count": null,
   "id": "5e83c863-030d-4a14-8443-acb8c8c88cd6",
   "metadata": {},
   "outputs": [],
   "source": []
  }
 ],
 "metadata": {
  "kernelspec": {
   "display_name": "Python 3 (ipykernel)",
   "language": "python",
   "name": "python3"
  },
  "language_info": {
   "codemirror_mode": {
    "name": "ipython",
    "version": 3
   },
   "file_extension": ".py",
   "mimetype": "text/x-python",
   "name": "python",
   "nbconvert_exporter": "python",
   "pygments_lexer": "ipython3",
   "version": "3.11.6"
  }
 },
 "nbformat": 4,
 "nbformat_minor": 5
}
